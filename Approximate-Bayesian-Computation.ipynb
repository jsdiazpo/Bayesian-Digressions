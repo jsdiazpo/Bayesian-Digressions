{
 "cells": [
  {
   "cell_type": "code",
   "execution_count": null,
   "metadata": {
    "collapsed": true
   },
   "outputs": [],
   "source": []
  },
  {
   "cell_type": "markdown",
   "metadata": {},
   "source": [
    "# Bayesian AB testing for Swedish Fish Inc.\n",
    "\n",
    "Reproduction of the *Bayesian AB testing for Swedish Fish Inc.* presented by Rasmus Bååth in his [Introduction to Bayesian Data Analysis](http://www.sumsar.net/blog/2017/02/introduction-to-bayesian-data-analysis-part-one/).\n",
    "\n",
    "### Method A \n",
    "Offer a brochure advertising a one-year subscription to get a salmon by mail. After the campaign, a marketing determined that 6 out 16 people who received the brocure signed up for an annual subscription.\n",
    "**Goal:** use Bayesian data analysis to determine the sign-up probability based on the data gathered by the marketing team."
   ]
  },
  {
   "cell_type": "code",
   "execution_count": 1,
   "metadata": {
    "collapsed": true
   },
   "outputs": [],
   "source": [
    "import numpy as np\n",
    "import matplotlib.pyplot as plt\n",
    "%matplotlib inline\n",
    "import seaborn as sns\n",
    "sns.set(rc={'figure.facecolor':'white'})\n",
    "plt.rc('text', usetex=True)\n",
    "# plt.rc('font', family='serif')\n",
    "from time import time\n",
    "# import random\n",
    "# random.seed(123)"
   ]
  },
  {
   "cell_type": "code",
   "execution_count": 2,
   "metadata": {
    "collapsed": true
   },
   "outputs": [],
   "source": [
    "observed_data = 6"
   ]
  },
  {
   "cell_type": "code",
   "execution_count": 3,
   "metadata": {},
   "outputs": [],
   "source": [
    "n_sample = 100000\n",
    "prior = np.random.uniform(low=0, high=1, size=n_sample)"
   ]
  },
  {
   "cell_type": "code",
   "execution_count": 4,
   "metadata": {},
   "outputs": [
    {
     "data": {
      "image/png": "[encoded data removed]",
      "text/plain": [
       "<matplotlib.figure.Figure at 0x27f04304f28>"
      ]
     },
     "metadata": {},
     "output_type": "display_data"
    }
   ],
   "source": [
    "fig, ax = plt.subplots(1, 1)\n",
    "fig.set_size_inches(7, 3)\n",
    "ax.hist(prior, color='r', alpha=0.5)\n",
    "ax.set_title('prior for model A')\n",
    "ax.set_xlabel('prior on the rate of sign-up')\n",
    "ax.set_ylabel('frequency');"
   ]
  },
  {
   "cell_type": "code",
   "execution_count": 5,
   "metadata": {},
   "outputs": [],
   "source": [
    "def generative_model(theta):\n",
    "    return np.random.binomial(n=16, p=theta)"
   ]
  },
  {
   "cell_type": "code",
   "execution_count": 6,
   "metadata": {},
   "outputs": [],
   "source": [
    "simulated_data = [generative_model(theta) for theta in prior]"
   ]
  },
  {
   "cell_type": "code",
   "execution_count": 7,
   "metadata": {},
   "outputs": [
    {
     "data": {
      "text/plain": [
       "5817"
      ]
     },
     "execution_count": 7,
     "metadata": {},
     "output_type": "execute_result"
    }
   ],
   "source": [
    "# filter only values of theta that poduce the observed data\n",
    "posterior = [prior[idx] for idx, value in enumerate(simulated_data) if value == observed_data]\n",
    "len(posterior)"
   ]
  },
  {
   "cell_type": "code",
   "execution_count": 30,
   "metadata": {},
   "outputs": [
    {
     "data": {
      "image/png": "[encoded data removed]",
      "text/plain": [
       "<matplotlib.figure.Figure at 0x27f065ee7f0>"
      ]
     },
     "metadata": {},
     "output_type": "display_data"
    }
   ],
   "source": [
    "fig, ax = plt.subplots(1, 1)\n",
    "fig.set_size_inches(7, 3)\n",
    "ax.hist(posterior, color='g', alpha=0.5)\n",
    "y_max = 1400\n",
    "p16 = np.percentile(posterior, 16)\n",
    "p50 = np.percentile(posterior, 50)\n",
    "p84 = np.percentile(posterior, 84)\n",
    "ax.plot([p16, p16], [0, y_max], 'g--')\n",
    "ax.plot([p84, p84], [0, y_max], 'g--')\n",
    "ax.plot([p50, p50], [0, y_max], 'g-')\n",
    "ax.set_title('posterior distribution for model A')\n",
    "ax.set_xlabel('prior on the rate of sign-up')\n",
    "ax.set_ylabel('frequency')\n",
    "ax.set_xlim(0, 1);"
   ]
  },
  {
   "cell_type": "code",
   "execution_count": 22,
   "metadata": {},
   "outputs": [
    {
     "name": "stdout",
     "output_type": "stream",
     "text": [
      "percentile 16: 0.28\n",
      "percentile 50: 0.39\n",
      "percentile 84: 0.50\n"
     ]
    }
   ],
   "source": [
    "print(f'percentile 16: {np.percentile(posterior, 16):.2f}')\n",
    "print(f'percentile 50: {np.percentile(posterior, 50):.2f}')\n",
    "print(f'percentile 84: {np.percentile(posterior, 84):.2f}')"
   ]
  },
  {
   "cell_type": "code",
   "execution_count": null,
   "metadata": {
    "collapsed": true
   },
   "outputs": [],
   "source": []
  },
  {
   "cell_type": "code",
   "execution_count": null,
   "metadata": {
    "collapsed": true
   },
   "outputs": [],
   "source": []
  },
  {
   "cell_type": "markdown",
   "metadata": {},
   "source": [
    "# Comparison between two models\n",
    "\n",
    "\n",
    "### Method B \n",
    "In addition to the brochure advertising a one-year subscription to get a salmon by mail, include a sample: a free frozen salmon. After the campaign, a marketing determined that this time 10 out 16 people who received the brochure and free sample signed up for an annual subscription.\n",
    "**Goal:** use Bayesian data analysis to determine the sign-up probability based on the data gathered by the marketing team and compare with *Method A* to determine which campaing method worked best."
   ]
  },
  {
   "cell_type": "code",
   "execution_count": 10,
   "metadata": {},
   "outputs": [],
   "source": [
    "observed_data_a = 6\n",
    "observed_data_b = 10"
   ]
  },
  {
   "cell_type": "code",
   "execution_count": 11,
   "metadata": {},
   "outputs": [],
   "source": [
    "n_sample = 1000000\n",
    "prior_a = np.random.uniform(low=0, high=1, size=n_sample)\n",
    "prior_b = np.random.uniform(low=0, high=1, size=n_sample)"
   ]
  },
  {
   "cell_type": "code",
   "execution_count": 12,
   "metadata": {},
   "outputs": [
    {
     "data": {
      "image/png": "[encoded data removed]",
      "text/plain": [
       "<matplotlib.figure.Figure at 0x27f05503cc0>"
      ]
     },
     "metadata": {},
     "output_type": "display_data"
    }
   ],
   "source": [
    "fig, ax = plt.subplots(1, 2)\n",
    "fig.set_size_inches(13, 3)\n",
    "ax[0].hist(prior_a, color='r', alpha=0.5)\n",
    "ax[0].set_title('prior for model A')\n",
    "ax[0].set_xlabel('prior on the rate of sign-up')\n",
    "ax[0].set_ylabel('frequency')\n",
    "\n",
    "ax[1].hist(prior_b, color='r', alpha=0.5)\n",
    "ax[1].set_title('prior for model B')\n",
    "ax[1].set_xlabel('prior on the rate of sign-up')\n",
    "ax[1].set_ylabel('frequency');"
   ]
  },
  {
   "cell_type": "code",
   "execution_count": 13,
   "metadata": {},
   "outputs": [],
   "source": [
    "simulated_data_a = [generative_model(theta) for theta in prior_a]\n",
    "simulated_data_b = [generative_model(theta) for theta in prior_b]"
   ]
  },
  {
   "cell_type": "code",
   "execution_count": 14,
   "metadata": {},
   "outputs": [
    {
     "data": {
      "text/plain": [
       "(3518, 3518)"
      ]
     },
     "execution_count": 14,
     "metadata": {},
     "output_type": "execute_result"
    }
   ],
   "source": [
    "# filter only values of theta that poduce the observed data\n",
    "posterior_a = []\n",
    "posterior_b = []\n",
    "for idx, (v_a, v_b) in enumerate(zip(simulated_data_a, simulated_data_b)):\n",
    "    if (v_a == observed_data_a and\n",
    "        v_b == observed_data_b):\n",
    "        posterior_a.append(prior_a[idx])\n",
    "        posterior_b.append(prior_b[idx])\n",
    "len(posterior_a), len(posterior_b)"
   ]
  },
  {
   "cell_type": "code",
   "execution_count": 15,
   "metadata": {},
   "outputs": [
    {
     "data": {
      "image/png": "[encoded data removed]",
      "text/plain": [
       "<matplotlib.figure.Figure at 0x27f054c8fd0>"
      ]
     },
     "metadata": {},
     "output_type": "display_data"
    }
   ],
   "source": [
    "fig, ax = plt.subplots(1, 2)\n",
    "fig.set_size_inches(13, 3)\n",
    "ax[0].hist(posterior_a, color='b', alpha=0.5)\n",
    "ax[0].set_title('posterior for model A')\n",
    "ax[0].set_xlabel('posterior rate of sign-up')\n",
    "ax[0].set_ylabel('frequency')\n",
    "ax[0].set_xlim(0, 1)\n",
    "\n",
    "ax[1].hist(posterior_b, color='g', alpha=0.5)\n",
    "ax[1].set_title('posterior for model B')\n",
    "ax[1].set_xlabel('posterior rate of sign-up')\n",
    "ax[1].set_ylabel('frequency')\n",
    "ax[1].set_xlim(0, 1);"
   ]
  },
  {
   "cell_type": "code",
   "execution_count": 16,
   "metadata": {},
   "outputs": [],
   "source": [
    "post_diff = [x-y for (x,y) in zip(posterior_b, posterior_a)]"
   ]
  },
  {
   "cell_type": "code",
   "execution_count": 32,
   "metadata": {
    "collapsed": true
   },
   "outputs": [
    {
     "data": {
      "image/png": "[encoded data removed]",
      "text/plain": [
       "<matplotlib.figure.Figure at 0x27f0553e940>"
      ]
     },
     "metadata": {},
     "output_type": "display_data"
    }
   ],
   "source": [
    "fig, ax = plt.subplots(1, 1)\n",
    "fig.set_size_inches(7, 3)\n",
    "ax.hist(post_diff, color='g', alpha=0.5)\n",
    "ax.set_title('posterior distribution for model B-A')\n",
    "ax.set_xlabel('posterior difference')\n",
    "ax.set_ylabel('frequency')\n",
    "y_max = 1000\n",
    "ax.plot([0, 0], [0, y_max], 'k--')\n",
    "p16 = np.percentile(post_diff, 16)\n",
    "p50 = np.percentile(post_diff, 50)\n",
    "p84 = np.percentile(post_diff, 84)\n",
    "ax.plot([p16, p16], [0, y_max], 'g--')\n",
    "ax.plot([p84, p84], [0, y_max], 'g--')\n",
    "ax.plot([p50, p50], [0, y_max], 'g-')\n",
    "ax.set_xlim(-0.5, 1);"
   ]
  },
  {
   "cell_type": "code",
   "execution_count": 33,
   "metadata": {
    "collapsed": true
   },
   "outputs": [
    {
     "name": "stdout",
     "output_type": "stream",
     "text": [
      "percentile 16: 0.07\n",
      "percentile 50: 0.23\n",
      "percentile 84: 0.39\n"
     ]
    }
   ],
   "source": [
    "print(f'percentile 16: {p16:.2f}')\n",
    "print(f'percentile 50: {p50:.2f}')\n",
    "print(f'percentile 84: {p84:.2f}')"
   ]
  },
  {
   "cell_type": "code",
   "execution_count": 23,
   "metadata": {
    "collapsed": true
   },
   "outputs": [
    {
     "name": "stdout",
     "output_type": "stream",
     "text": [
      "probability of B-A model: 0.92\n"
     ]
    }
   ],
   "source": [
    "cnt = 0\n",
    "for x in post_diff:\n",
    "    if x > 0:\n",
    "        cnt += 1\n",
    "print('probability of B-A model: {:.2f}'.format(cnt/len(post_diff)))"
   ]
  },
  {
   "cell_type": "code",
   "execution_count": null,
   "metadata": {},
   "outputs": [],
   "source": []
  }
 ],
 "metadata": {
  "kernelspec": {
   "display_name": "Python 3",
   "language": "python",
   "name": "python3"
  },
  "language_info": {
   "codemirror_mode": {
    "name": "ipython",
    "version": 3
   },
   "file_extension": ".py",
   "mimetype": "text/x-python",
   "name": "python",
   "nbconvert_exporter": "python",
   "pygments_lexer": "ipython3",
   "version": "3.6.1"
  }
 },
 "nbformat": 4,
 "nbformat_minor": 2
}
