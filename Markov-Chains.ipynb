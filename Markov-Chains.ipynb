{
 "cells": [
  {
   "cell_type": "code",
   "execution_count": 1,
   "id": "a2c5e8b1-74a5-4d95-bcb9-285df9dbb1f8",
   "metadata": {},
   "outputs": [],
   "source": [
    "import numpy as np\n",
    "import pandas as pd\n",
    "import matplotlib.pyplot as plt\n",
    "%matplotlib inline\n",
    "plt.rcParams['figure.facecolor'] = 'w'\n",
    "# from scipy import stats\n",
    "# from scipy.special import beta as beta_function"
   ]
  },
  {
   "cell_type": "code",
   "execution_count": 23,
   "id": "447959f3-adf0-44cb-a5a3-baff22a913a1",
   "metadata": {},
   "outputs": [],
   "source": [
    "# transition matrix\n",
    "T = np.array([[0.2, 0.3, 0.5], \n",
    "              [0.6, 0.0, 0.0],\n",
    "              [0.2, 0.7, 0.5]])\n",
    "\n",
    "# initial probability distribution: pure state 2\n",
    "x0 = np.array([[0], \n",
    "               [1],\n",
    "               [0]])"
   ]
  },
  {
   "cell_type": "code",
   "execution_count": 24,
   "id": "c0dd0188-be02-48cd-a39d-fe76cb6f01c3",
   "metadata": {},
   "outputs": [
    {
     "data": {
      "text/plain": [
       "array([[0.3],\n",
       "       [0. ],\n",
       "       [0.7]])"
      ]
     },
     "execution_count": 24,
     "metadata": {},
     "output_type": "execute_result"
    }
   ],
   "source": [
    "np.dot(T,x0)"
   ]
  },
  {
   "cell_type": "code",
   "execution_count": 25,
   "id": "4cc31bff-31c1-49c8-85c4-e73d28f8ec98",
   "metadata": {},
   "outputs": [
    {
     "data": {
      "text/plain": [
       "array([[0.41],\n",
       "       [0.18],\n",
       "       [0.41]])"
      ]
     },
     "execution_count": 25,
     "metadata": {},
     "output_type": "execute_result"
    }
   ],
   "source": [
    "np.dot(T, np.dot(T,x0) )"
   ]
  },
  {
   "cell_type": "code",
   "execution_count": 28,
   "id": "b3610a57-0e01-4e47-876f-fd1ddc356c41",
   "metadata": {},
   "outputs": [
    {
     "name": "stdout",
     "output_type": "stream",
     "text": [
      "[[0 1 0]]\n",
      "[[0.3 0.  0.7]]\n",
      "[[0.41 0.18 0.41]]\n",
      "[[0.34 0.25 0.41]]\n",
      "[[0.35 0.2  0.45]]\n",
      "[[0.36 0.21 0.43]]\n",
      "[[0.35 0.22 0.43]]\n",
      "[[0.35 0.21 0.44]]\n",
      "[[0.35 0.21 0.44]]\n",
      "[[0.35 0.21 0.44]]\n"
     ]
    }
   ],
   "source": [
    "n_steps = 10\n",
    "xn = x0\n",
    "for _ in range(n_steps):\n",
    "    print(xn.T)\n",
    "    xn = np.round(np.dot(T, xn), 2)"
   ]
  },
  {
   "cell_type": "code",
   "execution_count": 30,
   "id": "6d0bf2fb-f054-4cb7-b8f0-d777264099ba",
   "metadata": {},
   "outputs": [
    {
     "ename": "AttributeError",
     "evalue": "'tuple' object has no attribute 'real'",
     "output_type": "error",
     "traceback": [
      "\u001b[1;31m---------------------------------------------------------------------------\u001b[0m",
      "\u001b[1;31mAttributeError\u001b[0m                            Traceback (most recent call last)",
      "Input \u001b[1;32mIn [30]\u001b[0m, in \u001b[0;36m<cell line: 1>\u001b[1;34m()\u001b[0m\n\u001b[1;32m----> 1\u001b[0m \u001b[43mnp\u001b[49m\u001b[38;5;241;43m.\u001b[39;49m\u001b[43mlinalg\u001b[49m\u001b[38;5;241;43m.\u001b[39;49m\u001b[43meig\u001b[49m\u001b[43m(\u001b[49m\u001b[43mT\u001b[49m\u001b[43m)\u001b[49m\u001b[38;5;241;43m.\u001b[39;49m\u001b[43mreal\u001b[49m\n",
      "\u001b[1;31mAttributeError\u001b[0m: 'tuple' object has no attribute 'real'"
     ]
    }
   ],
   "source": [
    "np.linalg.eig(T).real"
   ]
  },
  {
   "cell_type": "code",
   "execution_count": null,
   "id": "cabeb9da-babc-4ee2-befa-81b1e27fea76",
   "metadata": {},
   "outputs": [],
   "source": []
  }
 ],
 "metadata": {
  "kernelspec": {
   "display_name": "Python 3 (ipykernel)",
   "language": "python",
   "name": "python3"
  },
  "language_info": {
   "codemirror_mode": {
    "name": "ipython",
    "version": 3
   },
   "file_extension": ".py",
   "mimetype": "text/x-python",
   "name": "python",
   "nbconvert_exporter": "python",
   "pygments_lexer": "ipython3",
   "version": "3.9.5"
  }
 },
 "nbformat": 4,
 "nbformat_minor": 5
}
