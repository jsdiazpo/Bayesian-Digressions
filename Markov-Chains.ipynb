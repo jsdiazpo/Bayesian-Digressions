{
 "cells": [
  {
   "cell_type": "code",
   "execution_count": 1,
   "id": "a2c5e8b1-74a5-4d95-bcb9-285df9dbb1f8",
   "metadata": {},
   "outputs": [],
   "source": [
    "import numpy as np\n",
    "import pandas as pd\n",
    "import matplotlib.pyplot as plt\n",
    "%matplotlib inline\n",
    "plt.rcParams['figure.facecolor'] = 'w'\n",
    "# from scipy import stats\n",
    "# from scipy.special import beta as beta_function"
   ]
  },
  {
   "cell_type": "code",
   "execution_count": 23,
   "id": "447959f3-adf0-44cb-a5a3-baff22a913a1",
   "metadata": {},
   "outputs": [],
   "source": [
    "# transition matrix\n",
    "T = np.array([[0.2, 0.3, 0.5], \n",
    "              [0.6, 0.0, 0.0],\n",
    "              [0.2, 0.7, 0.5]])\n",
    "\n",
    "# initial probability distribution: pure state 2\n",
    "x0 = np.array([[0], \n",
    "               [1],\n",
    "               [0]])"
   ]
  },
  {
   "cell_type": "code",
   "execution_count": 24,
   "id": "c0dd0188-be02-48cd-a39d-fe76cb6f01c3",
   "metadata": {},
   "outputs": [
    {
     "data": {
      "text/plain": [
       "array([[0.3],\n",
       "       [0. ],\n",
       "       [0.7]])"
      ]
     },
     "execution_count": 24,
     "metadata": {},
     "output_type": "execute_result"
    }
   ],
   "source": [
    "np.dot(T,x0)"
   ]
  },
  {
   "cell_type": "code",
   "execution_count": 25,
   "id": "4cc31bff-31c1-49c8-85c4-e73d28f8ec98",
   "metadata": {},
   "outputs": [
    {
     "data": {
      "text/plain": [
       "array([[0.41],\n",
       "       [0.18],\n",
       "       [0.41]])"
      ]
     },
     "execution_count": 25,
     "metadata": {},
     "output_type": "execute_result"
    }
   ],
   "source": [
    "np.dot(T, np.dot(T,x0) )"
   ]
  },
  {
   "cell_type": "code",
   "execution_count": 28,
   "id": "b3610a57-0e01-4e47-876f-fd1ddc356c41",
   "metadata": {},
   "outputs": [
    {
     "name": "stdout",
     "output_type": "stream",
     "text": [
      "[[0 1 0]]\n",
      "[[0.3 0.  0.7]]\n",
      "[[0.41 0.18 0.41]]\n",
      "[[0.34 0.25 0.41]]\n",
      "[[0.35 0.2  0.45]]\n",
      "[[0.36 0.21 0.43]]\n",
      "[[0.35 0.22 0.43]]\n",
      "[[0.35 0.21 0.44]]\n",
      "[[0.35 0.21 0.44]]\n",
      "[[0.35 0.21 0.44]]\n"
     ]
    }
   ],
   "source": [
    "n_steps = 10\n",
    "xn = x0\n",
    "for _ in range(n_steps):\n",
    "    print(xn.T)\n",
    "    xn = np.round(np.dot(T, xn), 2)"
   ]
  },
  {
   "cell_type": "code",
   "execution_count": 33,
   "id": "6d0bf2fb-f054-4cb7-b8f0-d777264099ba",
   "metadata": {},
   "outputs": [
    {
     "data": {
      "text/plain": [
       "(array([ 1.  +0.j       , -0.15+0.3122499j, -0.15-0.3122499j]),\n",
       " array([[-0.58746336+0.j        , -0.16984156+0.35355339j,\n",
       "         -0.16984156-0.35355339j],\n",
       "        [-0.35247801+0.j        ,  0.67936622+0.j        ,\n",
       "          0.67936622-0.j        ],\n",
       "        [-0.72845456+0.j        , -0.50952467-0.35355339j,\n",
       "         -0.50952467+0.35355339j]]))"
      ]
     },
     "execution_count": 33,
     "metadata": {},
     "output_type": "execute_result"
    }
   ],
   "source": [
    "np.linalg.eig(T)"
   ]
  },
  {
   "cell_type": "code",
   "execution_count": 34,
   "id": "cabeb9da-babc-4ee2-befa-81b1e27fea76",
   "metadata": {},
   "outputs": [],
   "source": [
    "from scipy.linalg import eig as eigenvetors"
   ]
  },
  {
   "cell_type": "code",
   "execution_count": 50,
   "id": "580a5a4b-85a4-456d-adf7-e3700316ec50",
   "metadata": {},
   "outputs": [
    {
     "data": {
      "text/plain": [
       "array([ 1.  +0.j       , -0.15+0.3122499j, -0.15-0.3122499j])"
      ]
     },
     "execution_count": 50,
     "metadata": {},
     "output_type": "execute_result"
    }
   ],
   "source": [
    "eigenvalues, eigenvectors = eigenvetors(T)\n",
    "eigenvalues"
   ]
  },
  {
   "cell_type": "code",
   "execution_count": 52,
   "id": "7f811a7d-7bfc-4141-880b-c15bc5f0e561",
   "metadata": {},
   "outputs": [
    {
     "data": {
      "text/plain": [
       "array([[-0.587+0.j   , -0.17 +0.354j, -0.17 -0.354j],\n",
       "       [-0.352+0.j   ,  0.679+0.j   ,  0.679-0.j   ],\n",
       "       [-0.728+0.j   , -0.51 -0.354j, -0.51 +0.354j]])"
      ]
     },
     "execution_count": 52,
     "metadata": {},
     "output_type": "execute_result"
    }
   ],
   "source": [
    "np.round(eigenvectors, 3)"
   ]
  },
  {
   "cell_type": "code",
   "execution_count": 55,
   "id": "3e560dbf-e0a1-40f2-9cf0-dee38aadf83e",
   "metadata": {},
   "outputs": [
    {
     "data": {
      "text/plain": [
       "array([0.58746336, 0.35247801, 0.72845456])"
      ]
     },
     "execution_count": 55,
     "metadata": {},
     "output_type": "execute_result"
    }
   ],
   "source": [
    "eigenvector1 = -eigenvectors[:,0].real\n",
    "# eigenvector1 /= -np.sqrt(np.dot(eigenvector1, eigenvector1.T))\n",
    "eigenvector1"
   ]
  },
  {
   "cell_type": "code",
   "execution_count": 56,
   "id": "5803769a-42cc-4880-9a6e-74fb2bb37fc2",
   "metadata": {},
   "outputs": [
    {
     "data": {
      "text/plain": [
       "1.0"
      ]
     },
     "execution_count": 56,
     "metadata": {},
     "output_type": "execute_result"
    }
   ],
   "source": [
    "np.dot(eigenvector1, eigenvector1.T)"
   ]
  },
  {
   "cell_type": "code",
   "execution_count": null,
   "id": "a7c1b48e-c315-4e1f-b5c3-f4cf4812bca0",
   "metadata": {},
   "outputs": [],
   "source": [
    "0.58746336, 0.35247801, 0.72845456"
   ]
  }
 ],
 "metadata": {
  "kernelspec": {
   "display_name": "Python 3 (ipykernel)",
   "language": "python",
   "name": "python3"
  },
  "language_info": {
   "codemirror_mode": {
    "name": "ipython",
    "version": 3
   },
   "file_extension": ".py",
   "mimetype": "text/x-python",
   "name": "python",
   "nbconvert_exporter": "python",
   "pygments_lexer": "ipython3",
   "version": "3.9.5"
  }
 },
 "nbformat": 4,
 "nbformat_minor": 5
}
