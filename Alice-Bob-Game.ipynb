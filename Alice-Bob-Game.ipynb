{
 "cells": [
  {
   "cell_type": "code",
   "execution_count": 16,
   "id": "7d3a17fe-e8ef-4279-9fab-aaa10f306f82",
   "metadata": {},
   "outputs": [],
   "source": [
    "import numpy as np\n",
    "import pandas as pd\n",
    "import matplotlib.pyplot as plt\n",
    "%matplotlib inline\n",
    "plt.rcParams['figure.facecolor'] = 'w'\n",
    "from scipy.stats import binom as binomial"
   ]
  },
  {
   "cell_type": "code",
   "execution_count": 80,
   "id": "9a16efa5-1417-4647-a9c2-7194721d5b10",
   "metadata": {},
   "outputs": [
    {
     "data": {
      "text/html": [
       "<div>\n",
       "<style scoped>\n",
       "    .dataframe tbody tr th:only-of-type {\n",
       "        vertical-align: middle;\n",
       "    }\n",
       "\n",
       "    .dataframe tbody tr th {\n",
       "        vertical-align: top;\n",
       "    }\n",
       "\n",
       "    .dataframe thead th {\n",
       "        text-align: right;\n",
       "    }\n",
       "</style>\n",
       "<table border=\"1\" class=\"dataframe\">\n",
       "  <thead>\n",
       "    <tr style=\"text-align: right;\">\n",
       "      <th></th>\n",
       "      <th>p</th>\n",
       "    </tr>\n",
       "  </thead>\n",
       "  <tbody>\n",
       "    <tr>\n",
       "      <th>0</th>\n",
       "      <td>0.782971</td>\n",
       "    </tr>\n",
       "    <tr>\n",
       "      <th>1</th>\n",
       "      <td>0.018836</td>\n",
       "    </tr>\n",
       "    <tr>\n",
       "      <th>2</th>\n",
       "      <td>0.390332</td>\n",
       "    </tr>\n",
       "    <tr>\n",
       "      <th>3</th>\n",
       "      <td>0.575575</td>\n",
       "    </tr>\n",
       "    <tr>\n",
       "      <th>4</th>\n",
       "      <td>0.316579</td>\n",
       "    </tr>\n",
       "  </tbody>\n",
       "</table>\n",
       "</div>"
      ],
      "text/plain": [
       "          p\n",
       "0  0.782971\n",
       "1  0.018836\n",
       "2  0.390332\n",
       "3  0.575575\n",
       "4  0.316579"
      ]
     },
     "execution_count": 80,
     "metadata": {},
     "output_type": "execute_result"
    }
   ],
   "source": [
    "p = np.random.random(10000)\n",
    "df = pd.DataFrame()\n",
    "df['p'] = p\n",
    "df.head()"
   ]
  },
  {
   "cell_type": "code",
   "execution_count": 81,
   "id": "6870cddf-5759-43e1-81e0-fbea75b85160",
   "metadata": {},
   "outputs": [
    {
     "data": {
      "text/html": [
       "<div>\n",
       "<style scoped>\n",
       "    .dataframe tbody tr th:only-of-type {\n",
       "        vertical-align: middle;\n",
       "    }\n",
       "\n",
       "    .dataframe tbody tr th {\n",
       "        vertical-align: top;\n",
       "    }\n",
       "\n",
       "    .dataframe thead th {\n",
       "        text-align: right;\n",
       "    }\n",
       "</style>\n",
       "<table border=\"1\" class=\"dataframe\">\n",
       "  <thead>\n",
       "    <tr style=\"text-align: right;\">\n",
       "      <th></th>\n",
       "      <th>p</th>\n",
       "      <th>prob (A=5,B=3)</th>\n",
       "    </tr>\n",
       "  </thead>\n",
       "  <tbody>\n",
       "    <tr>\n",
       "      <th>0</th>\n",
       "      <td>0.782971</td>\n",
       "      <td>0.012942</td>\n",
       "    </tr>\n",
       "    <tr>\n",
       "      <th>1</th>\n",
       "      <td>0.018836</td>\n",
       "      <td>0.000340</td>\n",
       "    </tr>\n",
       "    <tr>\n",
       "      <th>2</th>\n",
       "      <td>0.390332</td>\n",
       "      <td>0.280516</td>\n",
       "    </tr>\n",
       "    <tr>\n",
       "      <th>3</th>\n",
       "      <td>0.575575</td>\n",
       "      <td>0.147061</td>\n",
       "    </tr>\n",
       "    <tr>\n",
       "      <th>4</th>\n",
       "      <td>0.316579</td>\n",
       "      <td>0.264896</td>\n",
       "    </tr>\n",
       "  </tbody>\n",
       "</table>\n",
       "</div>"
      ],
      "text/plain": [
       "          p  prob (A=5,B=3)\n",
       "0  0.782971        0.012942\n",
       "1  0.018836        0.000340\n",
       "2  0.390332        0.280516\n",
       "3  0.575575        0.147061\n",
       "4  0.316579        0.264896"
      ]
     },
     "execution_count": 81,
     "metadata": {},
     "output_type": "execute_result"
    }
   ],
   "source": [
    "# prob of (5,3)\n",
    "df['prob (A=5,B=3)'] = binomial.pmf(3,8,p)\n",
    "df.head()"
   ]
  },
  {
   "cell_type": "code",
   "execution_count": 82,
   "id": "039b3111-97e8-4196-b63f-8db649fc0646",
   "metadata": {},
   "outputs": [
    {
     "data": {
      "text/html": [
       "<div>\n",
       "<style scoped>\n",
       "    .dataframe tbody tr th:only-of-type {\n",
       "        vertical-align: middle;\n",
       "    }\n",
       "\n",
       "    .dataframe tbody tr th {\n",
       "        vertical-align: top;\n",
       "    }\n",
       "\n",
       "    .dataframe thead th {\n",
       "        text-align: right;\n",
       "    }\n",
       "</style>\n",
       "<table border=\"1\" class=\"dataframe\">\n",
       "  <thead>\n",
       "    <tr style=\"text-align: right;\">\n",
       "      <th></th>\n",
       "      <th>p</th>\n",
       "      <th>prob (A=5,B=3)</th>\n",
       "      <th>good game</th>\n",
       "    </tr>\n",
       "  </thead>\n",
       "  <tbody>\n",
       "    <tr>\n",
       "      <th>0</th>\n",
       "      <td>0.782971</td>\n",
       "      <td>0.012942</td>\n",
       "      <td>0</td>\n",
       "    </tr>\n",
       "    <tr>\n",
       "      <th>1</th>\n",
       "      <td>0.018836</td>\n",
       "      <td>0.000340</td>\n",
       "      <td>0</td>\n",
       "    </tr>\n",
       "    <tr>\n",
       "      <th>2</th>\n",
       "      <td>0.390332</td>\n",
       "      <td>0.280516</td>\n",
       "      <td>0</td>\n",
       "    </tr>\n",
       "    <tr>\n",
       "      <th>3</th>\n",
       "      <td>0.575575</td>\n",
       "      <td>0.147061</td>\n",
       "      <td>0</td>\n",
       "    </tr>\n",
       "    <tr>\n",
       "      <th>4</th>\n",
       "      <td>0.316579</td>\n",
       "      <td>0.264896</td>\n",
       "      <td>0</td>\n",
       "    </tr>\n",
       "  </tbody>\n",
       "</table>\n",
       "</div>"
      ],
      "text/plain": [
       "          p  prob (A=5,B=3)  good game\n",
       "0  0.782971        0.012942          0\n",
       "1  0.018836        0.000340          0\n",
       "2  0.390332        0.280516          0\n",
       "3  0.575575        0.147061          0\n",
       "4  0.316579        0.264896          0"
      ]
     },
     "execution_count": 82,
     "metadata": {},
     "output_type": "execute_result"
    }
   ],
   "source": [
    "# prob of (5,3)\n",
    "yn = []\n",
    "for v in df['prob (A=5,B=3)']:\n",
    "    if v > np.random.random(1):\n",
    "        yn.append(1)\n",
    "    else:\n",
    "        yn.append(0)\n",
    "\n",
    "df['good game'] = yn\n",
    "df.head()"
   ]
  },
  {
   "cell_type": "code",
   "execution_count": 83,
   "id": "bd7449e5-a998-4a58-8936-73b27385660d",
   "metadata": {},
   "outputs": [
    {
     "data": {
      "text/plain": [
       "1136"
      ]
     },
     "execution_count": 83,
     "metadata": {},
     "output_type": "execute_result"
    }
   ],
   "source": [
    "df = df[df['good game']==1]\n",
    "len(df)"
   ]
  },
  {
   "cell_type": "code",
   "execution_count": 84,
   "id": "11219cba-144b-4c32-a337-8684f26ea2b2",
   "metadata": {},
   "outputs": [
    {
     "data": {
      "text/html": [
       "<div>\n",
       "<style scoped>\n",
       "    .dataframe tbody tr th:only-of-type {\n",
       "        vertical-align: middle;\n",
       "    }\n",
       "\n",
       "    .dataframe tbody tr th {\n",
       "        vertical-align: top;\n",
       "    }\n",
       "\n",
       "    .dataframe thead th {\n",
       "        text-align: right;\n",
       "    }\n",
       "</style>\n",
       "<table border=\"1\" class=\"dataframe\">\n",
       "  <thead>\n",
       "    <tr style=\"text-align: right;\">\n",
       "      <th></th>\n",
       "      <th>p</th>\n",
       "      <th>prob (A=5,B=3)</th>\n",
       "      <th>good game</th>\n",
       "      <th>prob (Bob wins)</th>\n",
       "    </tr>\n",
       "  </thead>\n",
       "  <tbody>\n",
       "    <tr>\n",
       "      <th>10</th>\n",
       "      <td>0.372739</td>\n",
       "      <td>0.281607</td>\n",
       "      <td>1</td>\n",
       "      <td>0.051786</td>\n",
       "    </tr>\n",
       "    <tr>\n",
       "      <th>22</th>\n",
       "      <td>0.380674</td>\n",
       "      <td>0.281478</td>\n",
       "      <td>1</td>\n",
       "      <td>0.055164</td>\n",
       "    </tr>\n",
       "    <tr>\n",
       "      <th>34</th>\n",
       "      <td>0.664828</td>\n",
       "      <td>0.069607</td>\n",
       "      <td>1</td>\n",
       "      <td>0.293851</td>\n",
       "    </tr>\n",
       "    <tr>\n",
       "      <th>36</th>\n",
       "      <td>0.510992</td>\n",
       "      <td>0.208934</td>\n",
       "      <td>1</td>\n",
       "      <td>0.133427</td>\n",
       "    </tr>\n",
       "    <tr>\n",
       "      <th>37</th>\n",
       "      <td>0.150577</td>\n",
       "      <td>0.084545</td>\n",
       "      <td>1</td>\n",
       "      <td>0.003414</td>\n",
       "    </tr>\n",
       "  </tbody>\n",
       "</table>\n",
       "</div>"
      ],
      "text/plain": [
       "           p  prob (A=5,B=3)  good game  prob (Bob wins)\n",
       "10  0.372739        0.281607          1         0.051786\n",
       "22  0.380674        0.281478          1         0.055164\n",
       "34  0.664828        0.069607          1         0.293851\n",
       "36  0.510992        0.208934          1         0.133427\n",
       "37  0.150577        0.084545          1         0.003414"
      ]
     },
     "execution_count": 84,
     "metadata": {},
     "output_type": "execute_result"
    }
   ],
   "source": [
    "wins = []\n",
    "for v in df['p']:\n",
    "    wins.append(v**3)\n",
    "\n",
    "df['prob (Bob wins)'] = wins\n",
    "df.head()"
   ]
  },
  {
   "cell_type": "code",
   "execution_count": 85,
   "id": "5ebf50d8-7265-4a8f-99b7-77b32cd21d35",
   "metadata": {},
   "outputs": [
    {
     "data": {
      "text/html": [
       "<div>\n",
       "<style scoped>\n",
       "    .dataframe tbody tr th:only-of-type {\n",
       "        vertical-align: middle;\n",
       "    }\n",
       "\n",
       "    .dataframe tbody tr th {\n",
       "        vertical-align: top;\n",
       "    }\n",
       "\n",
       "    .dataframe thead th {\n",
       "        text-align: right;\n",
       "    }\n",
       "</style>\n",
       "<table border=\"1\" class=\"dataframe\">\n",
       "  <thead>\n",
       "    <tr style=\"text-align: right;\">\n",
       "      <th></th>\n",
       "      <th>p</th>\n",
       "      <th>prob (A=5,B=3)</th>\n",
       "      <th>good game</th>\n",
       "      <th>prob (Bob wins)</th>\n",
       "      <th>Winner</th>\n",
       "    </tr>\n",
       "  </thead>\n",
       "  <tbody>\n",
       "    <tr>\n",
       "      <th>10</th>\n",
       "      <td>0.372739</td>\n",
       "      <td>0.281607</td>\n",
       "      <td>1</td>\n",
       "      <td>0.051786</td>\n",
       "      <td>Alice</td>\n",
       "    </tr>\n",
       "    <tr>\n",
       "      <th>22</th>\n",
       "      <td>0.380674</td>\n",
       "      <td>0.281478</td>\n",
       "      <td>1</td>\n",
       "      <td>0.055164</td>\n",
       "      <td>Alice</td>\n",
       "    </tr>\n",
       "    <tr>\n",
       "      <th>34</th>\n",
       "      <td>0.664828</td>\n",
       "      <td>0.069607</td>\n",
       "      <td>1</td>\n",
       "      <td>0.293851</td>\n",
       "      <td>Alice</td>\n",
       "    </tr>\n",
       "    <tr>\n",
       "      <th>36</th>\n",
       "      <td>0.510992</td>\n",
       "      <td>0.208934</td>\n",
       "      <td>1</td>\n",
       "      <td>0.133427</td>\n",
       "      <td>Alice</td>\n",
       "    </tr>\n",
       "    <tr>\n",
       "      <th>37</th>\n",
       "      <td>0.150577</td>\n",
       "      <td>0.084545</td>\n",
       "      <td>1</td>\n",
       "      <td>0.003414</td>\n",
       "      <td>Alice</td>\n",
       "    </tr>\n",
       "  </tbody>\n",
       "</table>\n",
       "</div>"
      ],
      "text/plain": [
       "           p  prob (A=5,B=3)  good game  prob (Bob wins) Winner\n",
       "10  0.372739        0.281607          1         0.051786  Alice\n",
       "22  0.380674        0.281478          1         0.055164  Alice\n",
       "34  0.664828        0.069607          1         0.293851  Alice\n",
       "36  0.510992        0.208934          1         0.133427  Alice\n",
       "37  0.150577        0.084545          1         0.003414  Alice"
      ]
     },
     "execution_count": 85,
     "metadata": {},
     "output_type": "execute_result"
    }
   ],
   "source": [
    "wn = []\n",
    "for v in df['prob (Bob wins)']:\n",
    "    if v > np.random.random(1):\n",
    "        wn.append('Bob')\n",
    "    else:\n",
    "        wn.append('Alice')\n",
    "\n",
    "df['Winner'] = wn\n",
    "df.head()"
   ]
  },
  {
   "cell_type": "code",
   "execution_count": 86,
   "id": "a4855a0d-e9bf-453b-ad5d-5c5f9daa0d5b",
   "metadata": {},
   "outputs": [
    {
     "data": {
      "text/plain": [
       "Alice    1033\n",
       "Bob       103\n",
       "Name: Winner, dtype: int64"
      ]
     },
     "execution_count": 86,
     "metadata": {},
     "output_type": "execute_result"
    }
   ],
   "source": [
    "df['Winner'].value_counts()"
   ]
  },
  {
   "cell_type": "code",
   "execution_count": 87,
   "id": "35def918-838a-4c27-afcf-a0c7fa32a265",
   "metadata": {},
   "outputs": [
    {
     "data": {
      "text/plain": [
       "(103, 1033)"
      ]
     },
     "execution_count": 87,
     "metadata": {},
     "output_type": "execute_result"
    }
   ],
   "source": [
    "len(df[df['Winner'] == 'Bob']), len(df[df['Winner'] == 'Alice'])"
   ]
  },
  {
   "cell_type": "code",
   "execution_count": 88,
   "id": "e7f68c4b-b212-4d65-8821-18eb9df855e7",
   "metadata": {},
   "outputs": [
    {
     "data": {
      "text/plain": [
       "0.09066901408450705"
      ]
     },
     "execution_count": 88,
     "metadata": {},
     "output_type": "execute_result"
    }
   ],
   "source": [
    "len(df[df['Winner'] == 'Bob']) / len(df)"
   ]
  },
  {
   "cell_type": "code",
   "execution_count": null,
   "id": "c4a577a3-97a1-40c9-93a8-47dc97d18c24",
   "metadata": {},
   "outputs": [],
   "source": []
  },
  {
   "cell_type": "code",
   "execution_count": 185,
   "id": "564b9f78-ec43-4a95-b1d0-9f0624ac693c",
   "metadata": {},
   "outputs": [],
   "source": [
    "p_bob = []\n",
    "n_samples = 10000\n",
    "n_experiments = 1000\n",
    "for _ in range(n_experiments):\n",
    "    # generate random sampling of prob for Bob wining the game\n",
    "    p = np.random.random(n_samples)\n",
    "    # find probability of the state Alice=5, Bob=3\n",
    "    prob_5_3 = binomial.pmf(3,8,p)\n",
    "    \n",
    "    # find good games (when the game instance occurs)\n",
    "    rdn_nrs  = np.random.random(n_samples)\n",
    "    good_games = np.array(prob_5_3 > rdn_nrs)\n",
    "    n_good_games = np.sum(good_games)\n",
    "    \n",
    "    # find probability that Bob wins the game\n",
    "    p_bob_wins_game = p[good_games]**3\n",
    "    \n",
    "    # find whether Bob wins the game\n",
    "    rdn_nrs2 = np.random.random(n_good_games)\n",
    "    bob_wins_game = np.array(p_bob_wins_game > rdn_nrs2)\n",
    "    n_bob_wins_game = np.sum(bob_wins_game)\n",
    "    \n",
    "    # save probability of Bob winning \n",
    "    p_bob.append(n_bob_wins_game/n_good_games)"
   ]
  },
  {
   "cell_type": "code",
   "execution_count": 186,
   "id": "6bfa41bb-aca9-4575-bf1b-8602c21b6112",
   "metadata": {},
   "outputs": [
    {
     "name": "stdout",
     "output_type": "stream",
     "text": [
      "Frequentist prob Bob wins: 0.05\n",
      "Bayesian prob Bob wins   : 0.09\n"
     ]
    }
   ],
   "source": [
    "p_bob_freq, p_bob_bayes = (3/8)**3, 1/11\n",
    "print(f'Frequentist prob Bob wins: {p_bob_freq:.2f}')\n",
    "print(f'Bayesian prob Bob wins   : {p_bob_bayes:.2f}')"
   ]
  },
  {
   "cell_type": "code",
   "execution_count": 187,
   "id": "5aa4c480-3fcb-4b10-a64c-71be2f3aeb45",
   "metadata": {},
   "outputs": [
    {
     "data": {
      "image/png": "[encoded data removed]",
      "text/plain": [
       "<Figure size 576x360 with 1 Axes>"
      ]
     },
     "metadata": {},
     "output_type": "display_data"
    }
   ],
   "source": [
    "fig, ax = plt.subplots(figsize=(8, 5))\n",
    "\n",
    "xmin, xmax = 0.02, 0.13\n",
    "ax.hist(p_bob, color='dodgerblue', alpha=.7, histtype='stepfilled', ec='k')\n",
    "ymin, ymax = ax.axis()[-2:]\n",
    "ax.plot([p_bob_freq, p_bob_freq], [0, ymax], 'r-', label='Frequentist')\n",
    "ax.plot([p_bob_bayes, p_bob_bayes],[0,ymax], 'b-', label='Bayesian')\n",
    "ax.set(xlabel='$p$', ylabel='count', xlim=[xmin,xmax], ylim=[ymin,ymax])\n",
    "ax.grid(lw=1, alpha=0.2, zorder=0)\n",
    "ax.legend();"
   ]
  },
  {
   "cell_type": "code",
   "execution_count": null,
   "id": "419bd95c-ce1c-4338-bd83-02faaba5a24e",
   "metadata": {},
   "outputs": [],
   "source": []
  },
  {
   "cell_type": "code",
   "execution_count": null,
   "id": "5398550b-b46b-4729-8b30-9a65f3ef10f1",
   "metadata": {},
   "outputs": [],
   "source": []
  }
 ],
 "metadata": {
  "kernelspec": {
   "display_name": "Python 3 (ipykernel)",
   "language": "python",
   "name": "python3"
  },
  "language_info": {
   "codemirror_mode": {
    "name": "ipython",
    "version": 3
   },
   "file_extension": ".py",
   "mimetype": "text/x-python",
   "name": "python",
   "nbconvert_exporter": "python",
   "pygments_lexer": "ipython3",
   "version": "3.9.5"
  }
 },
 "nbformat": 4,
 "nbformat_minor": 5
}
