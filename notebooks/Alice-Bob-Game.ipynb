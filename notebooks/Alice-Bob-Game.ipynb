{
 "cells": [
  {
   "cell_type": "code",
   "execution_count": 1,
   "id": "511e6c3c-d2b3-4cb3-864a-d83981d72e80",
   "metadata": {},
   "outputs": [],
   "source": [
    "import numpy as np\n",
    "import pandas as pd\n",
    "import matplotlib.pyplot as plt\n",
    "%matplotlib inline\n",
    "# plt.rcParams['figure.facecolor'] = 'w'\n",
    "plt.style.use('dark_background')\n",
    "from scipy.stats import binom as binomial\n",
    "import ipywidgets as widgets"
   ]
  },
  {
   "cell_type": "code",
   "execution_count": 2,
   "id": "d1884f58-d0ce-4841-adb2-06a3390335f5",
   "metadata": {},
   "outputs": [
    {
     "name": "stdout",
     "output_type": "stream",
     "text": [
      "Max-Likelihood prob Bob wins: 0.053\n",
      "Bayesian prob Bob wins      : 0.091\n"
     ]
    }
   ],
   "source": [
    "p_bob_ml, p_bob_bayes = (3/8)**3, 1/11\n",
    "print(f'Max-Likelihood prob Bob wins: {p_bob_ml:.3f}')\n",
    "print(f'Bayesian prob Bob wins      : {p_bob_bayes:.3f}')"
   ]
  },
  {
   "cell_type": "code",
   "execution_count": 3,
   "id": "2a2d20b9-f6e1-4ac5-bb22-608a50405990",
   "metadata": {},
   "outputs": [],
   "source": [
    "p_bob = []\n",
    "n_games = 10000\n",
    "n_simulations = 1000\n",
    "for _ in range(n_simulations):\n",
    "    # generate random sampling of prob for Bob wining the game\n",
    "    p = np.random.random(n_games)\n",
    "    # find probability of the observed state (Alice=5, Bob=3)\n",
    "    prob_5_3 = binomial.pmf(3,8,p)\n",
    "    \n",
    "    # find good games (when the observed state indeed occurs)\n",
    "    rdn_nrs      = np.random.random(n_games)   # sample random numbers\n",
    "    good_games   = np.array(prob_5_3 > rdn_nrs)  # boolean array\n",
    "    n_good_games = np.sum(good_games)            # number of \"good games\"\n",
    "    #-----------------------------------------------------------------------------------\n",
    "    # from here we only focus on the \"good games\"\n",
    "    # find probability that Bob wins one point\n",
    "    p_bob_wins_point = p[good_games]\n",
    "    # find probability that Bob wins the game\n",
    "    p_bob_wins_game = p_bob_wins_point**3\n",
    "    \n",
    "    # find whether Bob wins the game\n",
    "    rdn_nrs2        = np.random.random(n_good_games)        # sample random numbers\n",
    "    bob_wins_game   = np.array(p_bob_wins_game > rdn_nrs2)  # boolean array\n",
    "    n_bob_wins_game = np.sum(bob_wins_game)                 # number of games won by Bob\n",
    "    \n",
    "    # save fraction of games (\"frequentist probability\") won by Bob\n",
    "    p_bob.append(n_bob_wins_game/n_good_games)"
   ]
  },
  {
   "cell_type": "code",
   "execution_count": 4,
   "id": "e303ec58-6900-4cc2-aa57-8481bc1fae87",
   "metadata": {},
   "outputs": [],
   "source": [
    "def function(n_games=1):\n",
    "    fig, ax = plt.subplots(figsize=(8, 5))\n",
    "    xmin, xmax = 0.02, 0.13\n",
    "    binwidth   = 0.005\n",
    "    ax.axvline(x=p_bob_ml, c='tomato', lw=3, label='max-Likelihood')\n",
    "    ax.axvline(x=p_bob_bayes, c='lime', lw=3, label='Bayesian')\n",
    "    ax.hist(p_bob[:n_games], color='y', alpha=.95, histtype='stepfilled', ec='w', bins=np.arange(min(p_bob), max(p_bob) + binwidth, binwidth), label='simulation')\n",
    "    ax.set(xlabel='fraction of games won by Bob', ylabel='count', xlim=[xmin,xmax], ylim=[0,250])\n",
    "    ax.grid(lw=1, alpha=0.2, zorder=0)\n",
    "    ax.legend(loc='upper left');"
   ]
  },
  {
   "cell_type": "code",
   "execution_count": 5,
   "id": "b0175e21-3313-4445-ae52-49656c9ab212",
   "metadata": {},
   "outputs": [
    {
     "data": {
      "image/png": "[encoded data removed]",
      "text/plain": [
       "<Figure size 576x360 with 1 Axes>"
      ]
     },
     "metadata": {},
     "output_type": "display_data"
    }
   ],
   "source": [
    "function(n_games=1)"
   ]
  },
  {
   "cell_type": "code",
   "execution_count": 6,
   "id": "a4351372-1a5f-4074-bd10-1bae9727f512",
   "metadata": {},
   "outputs": [
    {
     "data": {
      "application/vnd.jupyter.widget-view+json": {
       "model_id": "5ec0b1530dab4e62a28956c2b565743b",
       "version_major": 2,
       "version_minor": 0
      },
      "text/plain": [
       "interactive(children=(IntSlider(value=1, description='n_games', max=1000, min=1), Output()), _dom_classes=('wi…"
      ]
     },
     "metadata": {},
     "output_type": "display_data"
    }
   ],
   "source": [
    "widgets.interact(function, n_games=(1, 1000, 1));"
   ]
  },
  {
   "cell_type": "code",
   "execution_count": null,
   "id": "260c643c-d6c3-402c-8822-e699291a3da7",
   "metadata": {},
   "outputs": [],
   "source": []
  },
  {
   "cell_type": "code",
   "execution_count": null,
   "id": "f2ec4078-fb98-44e9-9cda-9d6c813eb7ac",
   "metadata": {},
   "outputs": [],
   "source": []
  }
 ],
 "metadata": {
  "kernelspec": {
   "display_name": "Python 3 (ipykernel)",
   "language": "python",
   "name": "python3"
  },
  "language_info": {
   "codemirror_mode": {
    "name": "ipython",
    "version": 3
   },
   "file_extension": ".py",
   "mimetype": "text/x-python",
   "name": "python",
   "nbconvert_exporter": "python",
   "pygments_lexer": "ipython3",
   "version": "3.9.5"
  }
 },
 "nbformat": 4,
 "nbformat_minor": 5
}
